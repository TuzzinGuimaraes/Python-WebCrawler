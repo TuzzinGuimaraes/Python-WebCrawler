{
 "cells": [
  {
   "cell_type": "markdown",
   "id": "b5f5f09d",
   "metadata": {},
   "source": [
    "# Desafio Crawler - Artur Afonso Pimentel Guimarães"
   ]
  },
  {
   "cell_type": "markdown",
   "id": "9f536544",
   "metadata": {},
   "source": [
    "### A baixo apresento o WebCrawler específico para a busca de avaliações do termo \"Congresso Nacional - Brasilia\" no site TripAdvisor. "
   ]
  },
  {
   "cell_type": "code",
   "execution_count": 1,
   "id": "71b5a7b4",
   "metadata": {},
   "outputs": [],
   "source": [
    "from selenium import webdriver\n",
    "from selenium.webdriver.common.by import By\n",
    "from selenium.webdriver.support.ui import WebDriverWait\n",
    "from selenium.webdriver.support import expected_conditions as EC\n",
    "from selenium.webdriver.common.keys import Keys\n",
    "from selenium.webdriver.chrome.options import Options\n",
    "import time\n",
    "\n",
    "#Caso queira ver o Crawler em ação, apenas comente as linhas 10, 11 e 12 e retire o comentário da linha 14.\n",
    "# options = webdriver.ChromeOptions()\n",
    "# options.add_argument(\"--headless\")\n",
    "# navegador = webdriver.Chrome(options=options)\n",
    "\n",
    "navegador = webdriver.Chrome()\n",
    "\n",
    "\n",
    "#Por algum motivo, a Home do TripAdvisor não compartilha o mesmo ClassName e os Names das outras páginas de mesmo domínio.\n",
    "#Como solução, forçamos um erro no site do tripadvisor (Imagem 1)\n",
    "navegador.get(\"https://www.tripadvisor.com.br/a\")\n",
    "\n",
    "time.sleep(1)"
   ]
  },
  {
   "cell_type": "markdown",
   "id": "3148064f",
   "metadata": {},
   "source": [
    "# Imagem 1:"
   ]
  },
  {
   "cell_type": "markdown",
   "id": "83e22f5e",
   "metadata": {},
   "source": [
    "![title](img/Imagem1.png)"
   ]
  },
  {
   "cell_type": "code",
   "execution_count": 2,
   "id": "100912e2",
   "metadata": {},
   "outputs": [],
   "source": [
    "#Dentro deste Try...Except, fazemos com que nosso Crawler passe pela parede de Cookies requisitados pelo site aceitando-os.\n",
    "try:\n",
    "    element = WebDriverWait(navegador, 10).until(\n",
    "        EC.presence_of_element_located((By.XPATH, '//*[@id=\"onetrust-accept-btn-handler\"]')),\n",
    "        navegador.find_element(By.XPATH, '//*[@id=\"onetrust-accept-btn-handler\"]').send_keys(Keys.RETURN)\n",
    "    )\n",
    "except:\n",
    "    print(\"ERRO COOKIES NÃO FORAM REQUISITADOS!\")\n",
    "\n",
    "#Fazemos a busca pela termo \"Congresso Nacional - Brasilia\". \n",
    "#Detalhe importante que nesse processo, por mais que o Crawler insira a String na busca do site, não efetivamente realizamos a busca.\n",
    "\n",
    "navegador.find_element(By.XPATH, '//*[@id=\"lithium-root\"]/header/div/nav/div/div[1]/div/div/form/input[1]').send_keys(\"Congresso Nacional - Brasilia\")\n",
    "\n",
    "#Neste Try...Except, é aproveitado da busca dinâmica do site para de fato realizar a busca pela string.\n",
    "#Foi observado que o site em análise tende a fornecer duas formas de apresentar o resultado da busca. (IMAGEM 2 e 3)"
   ]
  },
  {
   "cell_type": "markdown",
   "id": "c8c814bb",
   "metadata": {},
   "source": [
    "# Imagem 2:"
   ]
  },
  {
   "cell_type": "markdown",
   "id": "828c8c1f",
   "metadata": {},
   "source": [
    "![title](img/Imagem2.png)"
   ]
  },
  {
   "cell_type": "markdown",
   "id": "c4c57371",
   "metadata": {},
   "source": [
    "# Imagem 3:"
   ]
  },
  {
   "cell_type": "markdown",
   "id": "f0b39ea7",
   "metadata": {},
   "source": [
    "![title](img/Imagem3.png)"
   ]
  },
  {
   "cell_type": "code",
   "execution_count": 3,
   "id": "b8f607a3",
   "metadata": {},
   "outputs": [
    {
     "name": "stdout",
     "output_type": "stream",
     "text": [
      "## Resultado da coleta de dados ##\n",
      "Avaliação do local: 4.5 de 5.331 avaliações avaliações.\n"
     ]
    }
   ],
   "source": [
    "#Tendo isso em mente, o Crawler busca primeiro pelo terceiro resultado, caso não receba nos próximos 2 segundos, irá achar no primeiro resultado.\n",
    "try:\n",
    "    element = WebDriverWait(navegador, 2).until(\n",
    "        EC.presence_of_element_located((By.XPATH, '//*[@id=\"typeahead_results\"]/a[3]/div[2]/div[1]'))\n",
    "    )\n",
    "except:\n",
    "    element = navegador.find_element(By.XPATH, '//*[@id=\"typeahead_results\"]/a[1]')\n",
    "\n",
    "element.click()\n",
    "\n",
    "#Após chegar no site específico da string pesquisada e analisando o HTML da mesma, conseguimos buscar pelos resultados das avaliações e sua quantidade.\n",
    "#Atribuimos o resultado da busca às suas devidas variáveis e as printamos em seguida.\n",
    "\n",
    "avaliacao = navegador.find_element(By.XPATH, '//*[@id=\"tab-data-qa-reviews-0\"]/div/div[3]/span/div/div[1]/div[1]').text\n",
    "quantidade = navegador.find_element(By.XPATH, '//*[@id=\"tab-data-qa-reviews-0\"]/div/div[3]/span/div/div[1]/div[2]/span').text\n",
    "print(\"## Resultado da coleta de dados ##\")\n",
    "print(f\"Avaliação do local: {avaliacao} de {quantidade} avaliações.\")"
   ]
  }
 ],
 "metadata": {
  "kernelspec": {
   "display_name": "Python 3 (ipykernel)",
   "language": "python",
   "name": "python3"
  },
  "language_info": {
   "codemirror_mode": {
    "name": "ipython",
    "version": 3
   },
   "file_extension": ".py",
   "mimetype": "text/x-python",
   "name": "python",
   "nbconvert_exporter": "python",
   "pygments_lexer": "ipython3",
   "version": "3.9.12"
  }
 },
 "nbformat": 4,
 "nbformat_minor": 5
}
